{
 "cells": [
  {
   "cell_type": "code",
   "execution_count": 8,
   "metadata": {},
   "outputs": [],
   "source": [
    "import pickle\n",
    "import pandas as pd\n",
    "import numpy as np"
   ]
  },
  {
   "cell_type": "code",
   "execution_count": null,
   "metadata": {},
   "outputs": [],
   "source": [
    "def read_biotac(fname, time_nullified = False):\n",
    "    data = pickle.load(open(fname, 'rb'))\n",
    "    columns = ['t', 'tdc', 'tac', 'pdc', 'pac', 'el']\n",
    "    df = pd.DataFrame(data=data, columns=columns)\n",
    "    df_el = pd.DataFrame(df.el.to_list(), index=df.index).add_prefix('el_').astype(int)\n",
    "    df_pac = pd.DataFrame(df.pac.to_list(), index=df.index).add_prefix('pac_').astype(int)\n",
    "    if time_nullified:\n",
    "        df.t = df.t-df.t[0]\n",
    "    return df.join(df_el).join(df_pac)"
   ]
  },
  {
   "cell_type": "code",
   "execution_count": 26,
   "metadata": {},
   "outputs": [],
   "source": [
    "data = pickle.load(open('data/processed_25_02_2020/trial5_calibrated.pkl', 'rb'))\n",
    "data3 = pickle.load(open('data/processed_25_02_2020/trial5_optitrack_rb.pkl', 'rb'))\n",
    "data2 = pickle.load(open('data/processed_25_02_2020/trial5_calibrated.pkl', 'rb'))"
   ]
  },
  {
   "cell_type": "code",
   "execution_count": 29,
   "metadata": {},
   "outputs": [
    {
     "data": {
      "text/plain": [
       "'/home/tas/Downloads/table_biotac/'"
      ]
     },
     "execution_count": 29,
     "metadata": {},
     "output_type": "execute_result"
    }
   ],
   "source": [
    "data3"
   ]
  },
  {
   "cell_type": "code",
   "execution_count": 23,
   "metadata": {},
   "outputs": [
    {
     "data": {
      "text/plain": [
       "(9815, 9815, 33)"
      ]
     },
     "execution_count": 23,
     "metadata": {},
     "output_type": "execute_result"
    }
   ],
   "source": [
    "len(data), len(data2), len(data3)"
   ]
  },
  {
   "cell_type": "code",
   "execution_count": 21,
   "metadata": {
    "scrolled": false
   },
   "outputs": [
    {
     "data": {
      "text/plain": [
       "[1611576621.052179,\n",
       " 1611576621.0515556,\n",
       " 0.0,\n",
       " 0.0,\n",
       " 0.0,\n",
       " 0.0,\n",
       " 0.0,\n",
       " [0.0,\n",
       "  0.0,\n",
       "  0.0,\n",
       "  0.0,\n",
       "  0.0,\n",
       "  0.0,\n",
       "  0.0,\n",
       "  0.0,\n",
       "  0.0,\n",
       "  0.0,\n",
       "  0.0,\n",
       "  0.0,\n",
       "  0.0,\n",
       "  0.0,\n",
       "  0.0,\n",
       "  0.0,\n",
       "  0.0,\n",
       "  0.0,\n",
       "  0.0,\n",
       "  0.0,\n",
       "  0.0,\n",
       "  0.0],\n",
       " [0.0,\n",
       "  0.0,\n",
       "  0.0,\n",
       "  0.0,\n",
       "  0.0,\n",
       "  0.0,\n",
       "  0.0,\n",
       "  0.0,\n",
       "  0.0,\n",
       "  0.0,\n",
       "  0.0,\n",
       "  0.0,\n",
       "  0.0,\n",
       "  0.0,\n",
       "  0.0,\n",
       "  0.0,\n",
       "  0.0,\n",
       "  0.0,\n",
       "  0.0],\n",
       " 0,\n",
       " 65,\n",
       " 547,\n",
       " (-30,\n",
       "  -24,\n",
       "  -23,\n",
       "  -29,\n",
       "  -12,\n",
       "  -20,\n",
       "  -18,\n",
       "  -6,\n",
       "  -15,\n",
       "  -22,\n",
       "  -8,\n",
       "  -20,\n",
       "  -16,\n",
       "  -10,\n",
       "  -16,\n",
       "  -11,\n",
       "  -9,\n",
       "  -10,\n",
       "  0,\n",
       "  1,\n",
       "  -1,\n",
       "  -7),\n",
       " (112,\n",
       "  2,\n",
       "  1,\n",
       "  96,\n",
       "  9,\n",
       "  113,\n",
       "  -15,\n",
       "  -19,\n",
       "  -22,\n",
       "  -56,\n",
       "  150,\n",
       "  -6,\n",
       "  -11,\n",
       "  99,\n",
       "  -2,\n",
       "  109,\n",
       "  -215,\n",
       "  -118,\n",
       "  -24)]"
      ]
     },
     "execution_count": 21,
     "metadata": {},
     "output_type": "execute_result"
    }
   ],
   "source": [
    "data[0]"
   ]
  },
  {
   "cell_type": "code",
   "execution_count": null,
   "metadata": {},
   "outputs": [],
   "source": []
  }
 ],
 "metadata": {
  "kernelspec": {
   "display_name": "Python 3",
   "language": "python",
   "name": "python3"
  },
  "language_info": {
   "codemirror_mode": {
    "name": "ipython",
    "version": 3
   },
   "file_extension": ".py",
   "mimetype": "text/x-python",
   "name": "python",
   "nbconvert_exporter": "python",
   "pygments_lexer": "ipython3",
   "version": "3.8.5"
  }
 },
 "nbformat": 4,
 "nbformat_minor": 4
}
