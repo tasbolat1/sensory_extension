{
 "cells": [
  {
   "cell_type": "code",
   "execution_count": 48,
   "metadata": {},
   "outputs": [],
   "source": [
    "import pandas as pd\n",
    "import pickle"
   ]
  },
  {
   "cell_type": "code",
   "execution_count": 64,
   "metadata": {},
   "outputs": [],
   "source": [
    "data_dir = 'data/processed_25_02_2020/trial4_optitrack_sm.pkl'"
   ]
  },
  {
   "cell_type": "code",
   "execution_count": 65,
   "metadata": {},
   "outputs": [],
   "source": [
    "data = pickle.load(open(data_dir, 'rb'))"
   ]
  },
  {
   "cell_type": "code",
   "execution_count": 66,
   "metadata": {
    "scrolled": false
   },
   "outputs": [
    {
     "data": {
      "text/plain": [
       "[1611576438.796374,\n",
       " 1611576438.795949,\n",
       " [0, -0.054784100502729416, 0.01100306399166584, -0.04239971563220024],\n",
       " [1, 0.3862151801586151, 0.06711602210998535, -0.08607804030179977],\n",
       " [2, 0.39164820313453674, 0.02609046921133995, -0.03178758919239044],\n",
       " [3, 0.3297311067581177, 0.4185221493244171, -0.03347219526767731],\n",
       " [4, 0.40275853872299194, 0.41798192262649536, -0.04196891188621521],\n",
       " [5, 0.4163305163383484, 0.41491448879241943, -0.03166794776916504]]"
      ]
     },
     "execution_count": 66,
     "metadata": {},
     "output_type": "execute_result"
    }
   ],
   "source": [
    "data[0]"
   ]
  },
  {
   "cell_type": "code",
   "execution_count": 34,
   "metadata": {},
   "outputs": [],
   "source": [
    "# class marker():\n",
    "#     def __init__(self, x=0.0, y=0.0, z=0.0):\n",
    "#         self.x=x\n",
    "#         self.y=y\n",
    "#         self.z=z\n",
    "        \n",
    "# class rigid_body():\n",
    "#     def __init__(self, id = 0):\n",
    "#         self.id == id\n",
    "#         self.name = 'Unknown'\n",
    "        \n",
    "#         self.p_x = 0.0\n",
    "#         self.p_y = 0.0\n",
    "#         self.p_z = 0.0\n",
    "#         self.q_w = 0.0\n",
    "#         self.q_x = 0.0\n",
    "#         self.q_y = 0.0\n",
    "#         self.q_z = 0.0\n",
    "\n",
    "#         self.marker1 = marker()\n",
    "#         self.marker2 = marker()\n",
    "#         self.marker3 = marker()\n",
    "#         self.marker4 = marker()\n",
    "#         self.markers = [self.marker1, self.marker2, self.marker3, self.marker4]\n",
    "#     def set_position(self,px,py,pz):\n",
    "#         self.px=px\n",
    "#         self.py=py\n",
    "#         self.pz=pz\n",
    "#     def set_orientation(self, qw,qx,qy,qz):\n",
    "#         self.qx = qx\n",
    "#         self.qy = qy\n",
    "#         self.qz = qz\n",
    "#         self.qw = qw\n",
    "#     def set_pose(self,px,py,pz,qw,qx,qy,qz):\n",
    "#         self.set_position(px,py,pz)\n",
    "#         self.set_orientation(qw,qx,qy,qz)\n",
    "        \n",
    "#     def get_pose(self):\n",
    "#         return self.px,self.py,self.pz,self.qw,self.qx,self.qy,self.qz"
   ]
  },
  {
   "cell_type": "code",
   "execution_count": 18,
   "metadata": {},
   "outputs": [],
   "source": [
    "# column_names = ['t', 'id','px','py','pz','qw','qx','qy','qz',\n",
    "#                'marker1_x', 'marker1_y', 'marker1_z',\n",
    "#                'marker2_x', 'marker2_y', 'marker2_z',\n",
    "#                'marker3_x', 'marker3_y', 'marker3_z',\n",
    "#                'marker4_x', 'marker4_y', 'marker4_z']"
   ]
  },
  {
   "cell_type": "code",
   "execution_count": 32,
   "metadata": {},
   "outputs": [
    {
     "ename": "SyntaxError",
     "evalue": "unmatched ']' (<ipython-input-32-9a73b039476b>, line 3)",
     "output_type": "error",
     "traceback": [
      "\u001b[0;36m  File \u001b[0;32m\"<ipython-input-32-9a73b039476b>\"\u001b[0;36m, line \u001b[0;32m3\u001b[0m\n\u001b[0;31m    edited_data.append([rb[0], rb[1][0], rb[1][1], rb[1][2], rb[1][3], rb[1][4], rb[1][5], rb[1][6], ])                               ])\u001b[0m\n\u001b[0m                                                                                                                                      ^\u001b[0m\n\u001b[0;31mSyntaxError\u001b[0m\u001b[0;31m:\u001b[0m unmatched ']'\n"
     ]
    }
   ],
   "source": [
    "edited_data = []\n",
    "for row in data:\n",
    "    edited_data.append(row[0])\n",
    "    for rb in row:\n",
    "    edited_data.append([rb[0], rb[1], rb[2], rb[3], rb[4], rb[5], rb[6],\n",
    "                       rb[2][0], rb[2][1], rb[2][2],\n",
    "                       rb[3][0], rb[3][1], rb[3][2],\n",
    "                       rb[4][0], rb[4][1], rb[4][2]])"
   ]
  },
  {
   "cell_type": "code",
   "execution_count": null,
   "metadata": {},
   "outputs": [],
   "source": []
  }
 ],
 "metadata": {
  "kernelspec": {
   "display_name": "Python 3",
   "language": "python",
   "name": "python3"
  },
  "language_info": {
   "codemirror_mode": {
    "name": "ipython",
    "version": 3
   },
   "file_extension": ".py",
   "mimetype": "text/x-python",
   "name": "python",
   "nbconvert_exporter": "python",
   "pygments_lexer": "ipython3",
   "version": "3.8.5"
  }
 },
 "nbformat": 4,
 "nbformat_minor": 4
}
