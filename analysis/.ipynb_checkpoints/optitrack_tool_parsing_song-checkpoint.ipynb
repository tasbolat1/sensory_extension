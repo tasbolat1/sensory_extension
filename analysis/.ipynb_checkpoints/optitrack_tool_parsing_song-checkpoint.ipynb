{
 "cells": [
  {
   "cell_type": "code",
   "execution_count": 133,
   "id": "renewable-sailing",
   "metadata": {},
   "outputs": [],
   "source": [
    "import numpy as np\n",
    "import pandas as pd\n",
    "import pickle as pkl"
   ]
  },
  {
   "cell_type": "code",
   "execution_count": 178,
   "id": "transsexual-column",
   "metadata": {},
   "outputs": [],
   "source": [
    "with open('../data/bodies_data.pkl', 'rb') as f:\n",
    "    bodies = pkl.load(f)\n",
    "with open('../data/markers_data.pkl', 'rb') as f:\n",
    "    markers = pkl.load(f)"
   ]
  },
  {
   "cell_type": "code",
   "execution_count": 187,
   "id": "integral-microphone",
   "metadata": {},
   "outputs": [],
   "source": [
    "bodies_df = pd.DataFrame(bodies, columns = ['t', 'id', 'x', 'y', 'z', 'x_q', 'y_q', 'z_q', 'w_q'])\n",
    "markers_df = pd.DataFrame(markers, columns = ['t', 'm_id', 'm_x', 'm_y', 'm_z'])"
   ]
  },
  {
   "cell_type": "markdown",
   "id": "biological-gregory",
   "metadata": {},
   "source": [
    "### Join 2 dataframes\n",
    "Cannot merge as float time are not comparable.\n"
   ]
  },
  {
   "cell_type": "code",
   "execution_count": 180,
   "id": "environmental-beijing",
   "metadata": {},
   "outputs": [
    {
     "data": {
      "text/html": [
       "<div>\n",
       "<style scoped>\n",
       "    .dataframe tbody tr th:only-of-type {\n",
       "        vertical-align: middle;\n",
       "    }\n",
       "\n",
       "    .dataframe tbody tr th {\n",
       "        vertical-align: top;\n",
       "    }\n",
       "\n",
       "    .dataframe thead th {\n",
       "        text-align: right;\n",
       "    }\n",
       "</style>\n",
       "<table border=\"1\" class=\"dataframe\">\n",
       "  <thead>\n",
       "    <tr style=\"text-align: right;\">\n",
       "      <th></th>\n",
       "      <th>t</th>\n",
       "      <th>id</th>\n",
       "      <th>x</th>\n",
       "      <th>y</th>\n",
       "      <th>z</th>\n",
       "      <th>x_q</th>\n",
       "      <th>y_q</th>\n",
       "      <th>z_q</th>\n",
       "      <th>w_q</th>\n",
       "    </tr>\n",
       "  </thead>\n",
       "  <tbody>\n",
       "    <tr>\n",
       "      <th>0</th>\n",
       "      <td>1.611314e+09</td>\n",
       "      <td>1</td>\n",
       "      <td>0.100036</td>\n",
       "      <td>-0.572102</td>\n",
       "      <td>0.202019</td>\n",
       "      <td>0.709541</td>\n",
       "      <td>0.086937</td>\n",
       "      <td>-0.072133</td>\n",
       "      <td>0.695551</td>\n",
       "    </tr>\n",
       "    <tr>\n",
       "      <th>3</th>\n",
       "      <td>1.611314e+09</td>\n",
       "      <td>1</td>\n",
       "      <td>0.101529</td>\n",
       "      <td>-0.572538</td>\n",
       "      <td>0.201918</td>\n",
       "      <td>0.700738</td>\n",
       "      <td>0.096459</td>\n",
       "      <td>-0.077450</td>\n",
       "      <td>0.702612</td>\n",
       "    </tr>\n",
       "    <tr>\n",
       "      <th>5</th>\n",
       "      <td>1.611314e+09</td>\n",
       "      <td>1</td>\n",
       "      <td>0.101544</td>\n",
       "      <td>-0.572704</td>\n",
       "      <td>0.202099</td>\n",
       "      <td>0.699010</td>\n",
       "      <td>0.099955</td>\n",
       "      <td>-0.078256</td>\n",
       "      <td>0.703754</td>\n",
       "    </tr>\n",
       "    <tr>\n",
       "      <th>6</th>\n",
       "      <td>1.611314e+09</td>\n",
       "      <td>1</td>\n",
       "      <td>0.101295</td>\n",
       "      <td>-0.572678</td>\n",
       "      <td>0.202246</td>\n",
       "      <td>0.699793</td>\n",
       "      <td>0.099700</td>\n",
       "      <td>-0.079460</td>\n",
       "      <td>0.702877</td>\n",
       "    </tr>\n",
       "    <tr>\n",
       "      <th>7</th>\n",
       "      <td>1.611314e+09</td>\n",
       "      <td>1</td>\n",
       "      <td>0.100796</td>\n",
       "      <td>-0.572625</td>\n",
       "      <td>0.202419</td>\n",
       "      <td>0.698735</td>\n",
       "      <td>0.100388</td>\n",
       "      <td>-0.085454</td>\n",
       "      <td>0.703128</td>\n",
       "    </tr>\n",
       "  </tbody>\n",
       "</table>\n",
       "</div>"
      ],
      "text/plain": [
       "              t  id         x         y         z       x_q       y_q  \\\n",
       "0  1.611314e+09   1  0.100036 -0.572102  0.202019  0.709541  0.086937   \n",
       "3  1.611314e+09   1  0.101529 -0.572538  0.201918  0.700738  0.096459   \n",
       "5  1.611314e+09   1  0.101544 -0.572704  0.202099  0.699010  0.099955   \n",
       "6  1.611314e+09   1  0.101295 -0.572678  0.202246  0.699793  0.099700   \n",
       "7  1.611314e+09   1  0.100796 -0.572625  0.202419  0.698735  0.100388   \n",
       "\n",
       "        z_q       w_q  \n",
       "0 -0.072133  0.695551  \n",
       "3 -0.077450  0.702612  \n",
       "5 -0.078256  0.703754  \n",
       "6 -0.079460  0.702877  \n",
       "7 -0.085454  0.703128  "
      ]
     },
     "execution_count": 180,
     "metadata": {},
     "output_type": "execute_result"
    }
   ],
   "source": [
    "#drop duplicates\n",
    "bodies_df = bodies_df.drop_duplicates(subset = ['x','y','z','x_q','y_q','z_q','w_q'], keep = 'first')\n",
    "bodies_df.head()"
   ]
  },
  {
   "cell_type": "code",
   "execution_count": 188,
   "id": "leading-armor",
   "metadata": {},
   "outputs": [
    {
     "data": {
      "text/html": [
       "<div>\n",
       "<style scoped>\n",
       "    .dataframe tbody tr th:only-of-type {\n",
       "        vertical-align: middle;\n",
       "    }\n",
       "\n",
       "    .dataframe tbody tr th {\n",
       "        vertical-align: top;\n",
       "    }\n",
       "\n",
       "    .dataframe thead th {\n",
       "        text-align: right;\n",
       "    }\n",
       "</style>\n",
       "<table border=\"1\" class=\"dataframe\">\n",
       "  <thead>\n",
       "    <tr style=\"text-align: right;\">\n",
       "      <th></th>\n",
       "      <th>t</th>\n",
       "      <th>m_id</th>\n",
       "      <th>m_x</th>\n",
       "      <th>m_y</th>\n",
       "      <th>m_z</th>\n",
       "    </tr>\n",
       "  </thead>\n",
       "  <tbody>\n",
       "    <tr>\n",
       "      <th>0</th>\n",
       "      <td>1.611314e+09</td>\n",
       "      <td>0</td>\n",
       "      <td>0.085140</td>\n",
       "      <td>-1.230061</td>\n",
       "      <td>-0.571589</td>\n",
       "    </tr>\n",
       "    <tr>\n",
       "      <th>1</th>\n",
       "      <td>1.611314e+09</td>\n",
       "      <td>1</td>\n",
       "      <td>0.091216</td>\n",
       "      <td>-0.567780</td>\n",
       "      <td>0.130091</td>\n",
       "    </tr>\n",
       "    <tr>\n",
       "      <th>2</th>\n",
       "      <td>1.611314e+09</td>\n",
       "      <td>2</td>\n",
       "      <td>-0.482550</td>\n",
       "      <td>-0.894645</td>\n",
       "      <td>0.265399</td>\n",
       "    </tr>\n",
       "    <tr>\n",
       "      <th>3</th>\n",
       "      <td>1.611314e+09</td>\n",
       "      <td>3</td>\n",
       "      <td>-0.661066</td>\n",
       "      <td>-1.068201</td>\n",
       "      <td>0.198046</td>\n",
       "    </tr>\n",
       "    <tr>\n",
       "      <th>4</th>\n",
       "      <td>1.611314e+09</td>\n",
       "      <td>0</td>\n",
       "      <td>0.114537</td>\n",
       "      <td>-0.577837</td>\n",
       "      <td>0.182329</td>\n",
       "    </tr>\n",
       "  </tbody>\n",
       "</table>\n",
       "</div>"
      ],
      "text/plain": [
       "              t  m_id       m_x       m_y       m_z\n",
       "0  1.611314e+09     0  0.085140 -1.230061 -0.571589\n",
       "1  1.611314e+09     1  0.091216 -0.567780  0.130091\n",
       "2  1.611314e+09     2 -0.482550 -0.894645  0.265399\n",
       "3  1.611314e+09     3 -0.661066 -1.068201  0.198046\n",
       "4  1.611314e+09     0  0.114537 -0.577837  0.182329"
      ]
     },
     "execution_count": 188,
     "metadata": {},
     "output_type": "execute_result"
    }
   ],
   "source": [
    "# drop duplicates\n",
    "markers_df = markers_df.drop_duplicates(subset = ['m_x', 'm_y', 'm_z'], keep = 'first')\n",
    "markers_df.head()"
   ]
  },
  {
   "cell_type": "code",
   "execution_count": 185,
   "id": "artificial-medline",
   "metadata": {},
   "outputs": [
    {
     "data": {
      "text/html": [
       "<div>\n",
       "<style scoped>\n",
       "    .dataframe tbody tr th:only-of-type {\n",
       "        vertical-align: middle;\n",
       "    }\n",
       "\n",
       "    .dataframe tbody tr th {\n",
       "        vertical-align: top;\n",
       "    }\n",
       "\n",
       "    .dataframe thead th {\n",
       "        text-align: right;\n",
       "    }\n",
       "</style>\n",
       "<table border=\"1\" class=\"dataframe\">\n",
       "  <thead>\n",
       "    <tr style=\"text-align: right;\">\n",
       "      <th></th>\n",
       "      <th>t</th>\n",
       "      <th>m_id</th>\n",
       "      <th>m_x</th>\n",
       "      <th>m_y</th>\n",
       "      <th>m_z</th>\n",
       "    </tr>\n",
       "  </thead>\n",
       "  <tbody>\n",
       "    <tr>\n",
       "      <th>317</th>\n",
       "      <td>1.611314e+09</td>\n",
       "      <td>2</td>\n",
       "      <td>-0.401264</td>\n",
       "      <td>-0.585546</td>\n",
       "      <td>-0.138701</td>\n",
       "    </tr>\n",
       "    <tr>\n",
       "      <th>1339</th>\n",
       "      <td>1.611314e+09</td>\n",
       "      <td>1</td>\n",
       "      <td>0.015706</td>\n",
       "      <td>-0.572457</td>\n",
       "      <td>-0.122331</td>\n",
       "    </tr>\n",
       "    <tr>\n",
       "      <th>1342</th>\n",
       "      <td>1.611314e+09</td>\n",
       "      <td>1</td>\n",
       "      <td>0.015447</td>\n",
       "      <td>-0.572196</td>\n",
       "      <td>-0.127619</td>\n",
       "    </tr>\n",
       "    <tr>\n",
       "      <th>1345</th>\n",
       "      <td>1.611314e+09</td>\n",
       "      <td>1</td>\n",
       "      <td>0.015289</td>\n",
       "      <td>-0.572127</td>\n",
       "      <td>-0.132764</td>\n",
       "    </tr>\n",
       "    <tr>\n",
       "      <th>1348</th>\n",
       "      <td>1.611314e+09</td>\n",
       "      <td>1</td>\n",
       "      <td>0.014885</td>\n",
       "      <td>-0.572030</td>\n",
       "      <td>-0.137815</td>\n",
       "    </tr>\n",
       "  </tbody>\n",
       "</table>\n",
       "</div>"
      ],
      "text/plain": [
       "                 t  m_id       m_x       m_y       m_z\n",
       "317   1.611314e+09     2 -0.401264 -0.585546 -0.138701\n",
       "1339  1.611314e+09     1  0.015706 -0.572457 -0.122331\n",
       "1342  1.611314e+09     1  0.015447 -0.572196 -0.127619\n",
       "1345  1.611314e+09     1  0.015289 -0.572127 -0.132764\n",
       "1348  1.611314e+09     1  0.014885 -0.572030 -0.137815"
      ]
     },
     "execution_count": 185,
     "metadata": {},
     "output_type": "execute_result"
    }
   ],
   "source": [
    "# drop duplicates\n",
    "markers_df = markers_df.drop_duplicates(subset = ['m_x', 'm_y', 'm_z'], keep = 'first')\n",
    "\n",
    "# keep those with y around -0.5 to -0.6\n",
    "markers_df = markers_df[markers_df['m_y'] < -0.5]\n",
    "markers_df = markers_df[markers_df['m_y'] > -0.6]\n",
    "markers_df.head()\n",
    "\n",
    "# keep those with z around -0.12 to -0.14\n",
    "markers_df = markers_df[markers_df['m_z'] < -0.12]\n",
    "markers_df = markers_df[markers_df['m_z'] > -0.14]\n",
    "markers_df.head()"
   ]
  },
  {
   "cell_type": "code",
   "execution_count": null,
   "id": "prepared-integration",
   "metadata": {
    "scrolled": true
   },
   "outputs": [],
   "source": [
    "# process bodies_df\n",
    "bodies_df['x_y_rms'] = bodies_df.apply(lambda row: (row.x**2 + row.y**2)**0.5, axis=1)"
   ]
  },
  {
   "cell_type": "code",
   "execution_count": null,
   "id": "planned-fabric",
   "metadata": {
    "scrolled": true
   },
   "outputs": [],
   "source": [
    "# process markers_df\n",
    "markers_df['x_y_rms'] = markers_df.apply(lambda row: (row.m_x**2 + row.m_y**2)**0.5, axis=1)\n",
    "markers_df.head()\n",
    "markers_df['t'][0]"
   ]
  },
  {
   "cell_type": "code",
   "execution_count": null,
   "id": "italian-attachment",
   "metadata": {
    "scrolled": true
   },
   "outputs": [],
   "source": [
    "bodies_df.head(10)\n",
    "x_y_avg = bodies_df['x_y_rms'].mean()\n",
    "print(x_y_avg)"
   ]
  },
  {
   "cell_type": "code",
   "execution_count": null,
   "id": "dietary-devil",
   "metadata": {
    "scrolled": true
   },
   "outputs": [],
   "source": [
    "# filter out those that are too high away from temp\n",
    "# markers_df = markers_df[markers_df['x_y_rms'] < x_y_avg]\n",
    "# markers_df"
   ]
  }
 ],
 "metadata": {
  "kernelspec": {
   "display_name": "Python 3",
   "language": "python",
   "name": "python3"
  },
  "language_info": {
   "codemirror_mode": {
    "name": "ipython",
    "version": 3
   },
   "file_extension": ".py",
   "mimetype": "text/x-python",
   "name": "python",
   "nbconvert_exporter": "python",
   "pygments_lexer": "ipython3",
   "version": "3.8.2"
  }
 },
 "nbformat": 4,
 "nbformat_minor": 5
}
