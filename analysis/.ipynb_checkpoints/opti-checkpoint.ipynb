{
 "cells": [
  {
   "cell_type": "code",
   "execution_count": 15,
   "metadata": {},
   "outputs": [],
   "source": [
    "import pickle\n",
    "import pandas as pd\n",
    "import matplotlib.pyplot as plt"
   ]
  },
  {
   "cell_type": "code",
   "execution_count": 28,
   "metadata": {},
   "outputs": [],
   "source": [
    "data_dir = '../data/processed_21_02_2020/'\n",
    "top_opt = 'top_cal1_optitrack.pkl'\n",
    "bot_opt = 'bot_cal1_optitrack.pkl'"
   ]
  },
  {
   "cell_type": "code",
   "execution_count": 29,
   "metadata": {},
   "outputs": [],
   "source": [
    "def read_optitrack(fname):\n",
    "    optitrack_data = pickle.load(open(fname, 'rb'))\n",
    "    optitrack_df = pd.DataFrame(columns=['time', 'px', 'py', 'pz', 'qw', 'qx', 'qy', 'qz'],\n",
    "             data=optitrack_data)\n",
    "    return optitrack_df"
   ]
  },
  {
   "cell_type": "code",
   "execution_count": 30,
   "metadata": {},
   "outputs": [
    {
     "data": {
      "text/plain": [
       "[1611228974.412603,\n",
       " 0.264948308467865,\n",
       " -0.3410165011882782,\n",
       " 0.8624193072319031,\n",
       " -0.5251439213752747,\n",
       " 0.5232861042022705,\n",
       " 0.6405891180038452,\n",
       " 0.2001030445098877]"
      ]
     },
     "execution_count": 30,
     "metadata": {},
     "output_type": "execute_result"
    }
   ],
   "source": [
    "optitrack_data[0]"
   ]
  },
  {
   "cell_type": "code",
   "execution_count": 31,
   "metadata": {},
   "outputs": [],
   "source": [
    "top_df = read_optitrack(data_dir+top_opt)\n",
    "bot_df = read_optitrack(data_dir+bot_opt)"
   ]
  },
  {
   "cell_type": "code",
   "execution_count": 32,
   "metadata": {},
   "outputs": [],
   "source": [
    "top_optitrack_mean = top_df.qz.mean()\n",
    "top_optitrack_std = top_df.qz.std()"
   ]
  },
  {
   "cell_type": "code",
   "execution_count": 33,
   "metadata": {},
   "outputs": [
    {
     "data": {
      "text/plain": [
       "(0.20012685002184835, 0.0014656202608996412)"
      ]
     },
     "execution_count": 33,
     "metadata": {},
     "output_type": "execute_result"
    }
   ],
   "source": [
    "top_optitrack_mean, top_optitrack_std"
   ]
  },
  {
   "cell_type": "code",
   "execution_count": null,
   "metadata": {},
   "outputs": [],
   "source": []
  }
 ],
 "metadata": {
  "kernelspec": {
   "display_name": "Python 3",
   "language": "python",
   "name": "python3"
  },
  "language_info": {
   "codemirror_mode": {
    "name": "ipython",
    "version": 3
   },
   "file_extension": ".py",
   "mimetype": "text/x-python",
   "name": "python",
   "nbconvert_exporter": "python",
   "pygments_lexer": "ipython3",
   "version": "3.8.5"
  }
 },
 "nbformat": 4,
 "nbformat_minor": 4
}
