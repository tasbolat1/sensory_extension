{
 "cells": [
  {
   "cell_type": "code",
   "execution_count": 4,
   "metadata": {},
   "outputs": [],
   "source": [
    "import pandas as pd\n",
    "import numpy as np\n",
    "import matplotlib.pyplot as plt"
   ]
  },
  {
   "cell_type": "code",
   "execution_count": 5,
   "metadata": {},
   "outputs": [],
   "source": [
    "df = pd.read_csv(\"../data/processed_21_02_2020/features.csv\")"
   ]
  },
  {
   "cell_type": "code",
   "execution_count": 6,
   "metadata": {},
   "outputs": [
    {
     "data": {
      "text/html": [
       "<div>\n",
       "<style scoped>\n",
       "    .dataframe tbody tr th:only-of-type {\n",
       "        vertical-align: middle;\n",
       "    }\n",
       "\n",
       "    .dataframe tbody tr th {\n",
       "        vertical-align: top;\n",
       "    }\n",
       "\n",
       "    .dataframe thead th {\n",
       "        text-align: right;\n",
       "    }\n",
       "</style>\n",
       "<table border=\"1\" class=\"dataframe\">\n",
       "  <thead>\n",
       "    <tr style=\"text-align: right;\">\n",
       "      <th></th>\n",
       "      <th>max_frequency</th>\n",
       "      <th>max_power_spectrum</th>\n",
       "      <th>power_bandwidth</th>\n",
       "      <th>fft_mean_coeff</th>\n",
       "      <th>spectral_spread</th>\n",
       "      <th>fundamental_frequency</th>\n",
       "      <th>location</th>\n",
       "    </tr>\n",
       "  </thead>\n",
       "  <tbody>\n",
       "    <tr>\n",
       "      <th>0</th>\n",
       "      <td>1013.843352</td>\n",
       "      <td>1013.843352</td>\n",
       "      <td>642.0</td>\n",
       "      <td>3334.354215</td>\n",
       "      <td>292.468097</td>\n",
       "      <td>8.014572</td>\n",
       "      <td>41</td>\n",
       "    </tr>\n",
       "    <tr>\n",
       "      <th>1</th>\n",
       "      <td>1021.857923</td>\n",
       "      <td>1021.857923</td>\n",
       "      <td>8.0</td>\n",
       "      <td>9510.902763</td>\n",
       "      <td>349.150455</td>\n",
       "      <td>6.010929</td>\n",
       "      <td>33</td>\n",
       "    </tr>\n",
       "    <tr>\n",
       "      <th>2</th>\n",
       "      <td>1041.894353</td>\n",
       "      <td>1041.894353</td>\n",
       "      <td>18.0</td>\n",
       "      <td>2460.242807</td>\n",
       "      <td>286.189561</td>\n",
       "      <td>8.014572</td>\n",
       "      <td>23</td>\n",
       "    </tr>\n",
       "    <tr>\n",
       "      <th>3</th>\n",
       "      <td>943.715847</td>\n",
       "      <td>943.715847</td>\n",
       "      <td>18.0</td>\n",
       "      <td>2304.224559</td>\n",
       "      <td>260.191365</td>\n",
       "      <td>8.014572</td>\n",
       "      <td>17</td>\n",
       "    </tr>\n",
       "    <tr>\n",
       "      <th>4</th>\n",
       "      <td>989.799636</td>\n",
       "      <td>989.799636</td>\n",
       "      <td>536.0</td>\n",
       "      <td>51.048255</td>\n",
       "      <td>264.494990</td>\n",
       "      <td>8.014572</td>\n",
       "      <td>10</td>\n",
       "    </tr>\n",
       "  </tbody>\n",
       "</table>\n",
       "</div>"
      ],
      "text/plain": [
       "   max_frequency  max_power_spectrum  power_bandwidth  fft_mean_coeff  \\\n",
       "0    1013.843352         1013.843352            642.0     3334.354215   \n",
       "1    1021.857923         1021.857923              8.0     9510.902763   \n",
       "2    1041.894353         1041.894353             18.0     2460.242807   \n",
       "3     943.715847          943.715847             18.0     2304.224559   \n",
       "4     989.799636          989.799636            536.0       51.048255   \n",
       "\n",
       "   spectral_spread  fundamental_frequency  location  \n",
       "0       292.468097               8.014572        41  \n",
       "1       349.150455               6.010929        33  \n",
       "2       286.189561               8.014572        23  \n",
       "3       260.191365               8.014572        17  \n",
       "4       264.494990               8.014572        10  "
      ]
     },
     "execution_count": 6,
     "metadata": {},
     "output_type": "execute_result"
    }
   ],
   "source": [
    "df.head()"
   ]
  },
  {
   "cell_type": "code",
   "execution_count": 17,
   "metadata": {},
   "outputs": [],
   "source": [
    "# PCA\n",
    "from sklearn.decomposition import PCA\n",
    "X = df.drop(['location'], axis=1).values\n",
    "pca = PCA(n_components=1)\n",
    "reduced_feats = pca.fit_transform(X)"
   ]
  },
  {
   "cell_type": "code",
   "execution_count": 109,
   "metadata": {},
   "outputs": [
    {
     "data": {
      "image/png": "[encoded data removed]",
      "text/plain": [
       "<Figure size 432x288 with 1 Axes>"
      ]
     },
     "metadata": {
      "needs_background": "light"
     },
     "output_type": "display_data"
    }
   ],
   "source": [
    "plt.plot(df.location, reduced_feats, 'x')\n",
    "plt.xlabel('Length [cm]')\n",
    "plt.show()"
   ]
  },
  {
   "cell_type": "code",
   "execution_count": 27,
   "metadata": {},
   "outputs": [
    {
     "data": {
      "text/html": [
       "<div>\n",
       "<style scoped>\n",
       "    .dataframe tbody tr th:only-of-type {\n",
       "        vertical-align: middle;\n",
       "    }\n",
       "\n",
       "    .dataframe tbody tr th {\n",
       "        vertical-align: top;\n",
       "    }\n",
       "\n",
       "    .dataframe thead th {\n",
       "        text-align: right;\n",
       "    }\n",
       "</style>\n",
       "<table border=\"1\" class=\"dataframe\">\n",
       "  <thead>\n",
       "    <tr style=\"text-align: right;\">\n",
       "      <th></th>\n",
       "      <th>max_frequency</th>\n",
       "      <th>max_power_spectrum</th>\n",
       "      <th>power_bandwidth</th>\n",
       "      <th>fft_mean_coeff</th>\n",
       "      <th>spectral_spread</th>\n",
       "      <th>fundamental_frequency</th>\n",
       "      <th>location</th>\n",
       "    </tr>\n",
       "  </thead>\n",
       "  <tbody>\n",
       "    <tr>\n",
       "      <th>1</th>\n",
       "      <td>1021.857923</td>\n",
       "      <td>1021.857923</td>\n",
       "      <td>8.0</td>\n",
       "      <td>9510.902763</td>\n",
       "      <td>349.150455</td>\n",
       "      <td>6.010929</td>\n",
       "      <td>33</td>\n",
       "    </tr>\n",
       "    <tr>\n",
       "      <th>6</th>\n",
       "      <td>1011.839709</td>\n",
       "      <td>1011.839709</td>\n",
       "      <td>566.0</td>\n",
       "      <td>337.613791</td>\n",
       "      <td>290.353435</td>\n",
       "      <td>2.003643</td>\n",
       "      <td>4</td>\n",
       "    </tr>\n",
       "    <tr>\n",
       "      <th>11</th>\n",
       "      <td>1017.850638</td>\n",
       "      <td>1017.850638</td>\n",
       "      <td>10.0</td>\n",
       "      <td>13960.043789</td>\n",
       "      <td>334.347911</td>\n",
       "      <td>6.010929</td>\n",
       "      <td>33</td>\n",
       "    </tr>\n",
       "    <tr>\n",
       "      <th>16</th>\n",
       "      <td>1001.821494</td>\n",
       "      <td>1001.821494</td>\n",
       "      <td>464.0</td>\n",
       "      <td>46.622419</td>\n",
       "      <td>276.872555</td>\n",
       "      <td>2.003643</td>\n",
       "      <td>10</td>\n",
       "    </tr>\n",
       "    <tr>\n",
       "      <th>21</th>\n",
       "      <td>1003.825137</td>\n",
       "      <td>1003.825137</td>\n",
       "      <td>12.0</td>\n",
       "      <td>19011.456717</td>\n",
       "      <td>300.818967</td>\n",
       "      <td>6.010929</td>\n",
       "      <td>40</td>\n",
       "    </tr>\n",
       "    <tr>\n",
       "      <th>26</th>\n",
       "      <td>983.788707</td>\n",
       "      <td>983.788707</td>\n",
       "      <td>12.0</td>\n",
       "      <td>5134.178338</td>\n",
       "      <td>296.621928</td>\n",
       "      <td>6.010929</td>\n",
       "      <td>18</td>\n",
       "    </tr>\n",
       "    <tr>\n",
       "      <th>31</th>\n",
       "      <td>1005.828780</td>\n",
       "      <td>1005.828780</td>\n",
       "      <td>542.0</td>\n",
       "      <td>250.176524</td>\n",
       "      <td>282.603715</td>\n",
       "      <td>2.003643</td>\n",
       "      <td>24</td>\n",
       "    </tr>\n",
       "    <tr>\n",
       "      <th>36</th>\n",
       "      <td>979.781421</td>\n",
       "      <td>979.781421</td>\n",
       "      <td>674.0</td>\n",
       "      <td>287.255452</td>\n",
       "      <td>243.864540</td>\n",
       "      <td>2.003643</td>\n",
       "      <td>5</td>\n",
       "    </tr>\n",
       "    <tr>\n",
       "      <th>41</th>\n",
       "      <td>993.806922</td>\n",
       "      <td>993.806922</td>\n",
       "      <td>460.0</td>\n",
       "      <td>6677.745980</td>\n",
       "      <td>284.184610</td>\n",
       "      <td>6.010929</td>\n",
       "      <td>26</td>\n",
       "    </tr>\n",
       "    <tr>\n",
       "      <th>46</th>\n",
       "      <td>1017.850638</td>\n",
       "      <td>1017.850638</td>\n",
       "      <td>12.0</td>\n",
       "      <td>7984.661118</td>\n",
       "      <td>311.801073</td>\n",
       "      <td>6.010929</td>\n",
       "      <td>22</td>\n",
       "    </tr>\n",
       "    <tr>\n",
       "      <th>51</th>\n",
       "      <td>1005.828780</td>\n",
       "      <td>1005.828780</td>\n",
       "      <td>12.0</td>\n",
       "      <td>4388.800581</td>\n",
       "      <td>318.085114</td>\n",
       "      <td>6.010929</td>\n",
       "      <td>32</td>\n",
       "    </tr>\n",
       "    <tr>\n",
       "      <th>56</th>\n",
       "      <td>959.744991</td>\n",
       "      <td>959.744991</td>\n",
       "      <td>10.0</td>\n",
       "      <td>22667.164977</td>\n",
       "      <td>293.877636</td>\n",
       "      <td>2.003643</td>\n",
       "      <td>28</td>\n",
       "    </tr>\n",
       "  </tbody>\n",
       "</table>\n",
       "</div>"
      ],
      "text/plain": [
       "    max_frequency  max_power_spectrum  power_bandwidth  fft_mean_coeff  \\\n",
       "1     1021.857923         1021.857923              8.0     9510.902763   \n",
       "6     1011.839709         1011.839709            566.0      337.613791   \n",
       "11    1017.850638         1017.850638             10.0    13960.043789   \n",
       "16    1001.821494         1001.821494            464.0       46.622419   \n",
       "21    1003.825137         1003.825137             12.0    19011.456717   \n",
       "26     983.788707          983.788707             12.0     5134.178338   \n",
       "31    1005.828780         1005.828780            542.0      250.176524   \n",
       "36     979.781421          979.781421            674.0      287.255452   \n",
       "41     993.806922          993.806922            460.0     6677.745980   \n",
       "46    1017.850638         1017.850638             12.0     7984.661118   \n",
       "51    1005.828780         1005.828780             12.0     4388.800581   \n",
       "56     959.744991          959.744991             10.0    22667.164977   \n",
       "\n",
       "    spectral_spread  fundamental_frequency  location  \n",
       "1        349.150455               6.010929        33  \n",
       "6        290.353435               2.003643         4  \n",
       "11       334.347911               6.010929        33  \n",
       "16       276.872555               2.003643        10  \n",
       "21       300.818967               6.010929        40  \n",
       "26       296.621928               6.010929        18  \n",
       "31       282.603715               2.003643        24  \n",
       "36       243.864540               2.003643         5  \n",
       "41       284.184610               6.010929        26  \n",
       "46       311.801073               6.010929        22  \n",
       "51       318.085114               6.010929        32  \n",
       "56       293.877636               2.003643        28  "
      ]
     },
     "execution_count": 27,
     "metadata": {},
     "output_type": "execute_result"
    }
   ],
   "source": [
    "df.iloc[1::5]"
   ]
  },
  {
   "cell_type": "code",
   "execution_count": 53,
   "metadata": {},
   "outputs": [
    {
     "data": {
      "text/plain": [
       "(12, 48)"
      ]
     },
     "execution_count": 53,
     "metadata": {},
     "output_type": "execute_result"
    }
   ],
   "source": [
    "all_indx = np.arange(0,60)\n",
    "test_indx = all_indx[1::5]\n",
    "train_indx = []\n",
    "for i in all_indx:\n",
    "    if not (i in test_indx):\n",
    "        train_indx.append(i)\n",
    "train_indx = np.array(train_indx)\n",
    "len(test_indx), len(train_indx)"
   ]
  },
  {
   "cell_type": "code",
   "execution_count": 73,
   "metadata": {},
   "outputs": [],
   "source": [
    "X_test = df.drop(['location'], axis=1).iloc[test_indx].values\n",
    "X_train = df.drop(['location'], axis=1).iloc[train_indx].values\n",
    "\n",
    "y_test = df['location'].iloc[test_indx].values\n",
    "y_train = df['location'].iloc[train_indx].values"
   ]
  },
  {
   "cell_type": "code",
   "execution_count": 75,
   "metadata": {},
   "outputs": [
    {
     "data": {
      "text/plain": [
       "(array([[1.02185792e+03, 1.02185792e+03, 8.00000000e+00, 9.51090276e+03,\n",
       "         3.49150455e+02, 6.01092896e+00],\n",
       "        [1.01183971e+03, 1.01183971e+03, 5.66000000e+02, 3.37613791e+02,\n",
       "         2.90353435e+02, 2.00364299e+00],\n",
       "        [1.01785064e+03, 1.01785064e+03, 1.00000000e+01, 1.39600438e+04,\n",
       "         3.34347911e+02, 6.01092896e+00],\n",
       "        [1.00182149e+03, 1.00182149e+03, 4.64000000e+02, 4.66224188e+01,\n",
       "         2.76872555e+02, 2.00364299e+00],\n",
       "        [1.00382514e+03, 1.00382514e+03, 1.20000000e+01, 1.90114567e+04,\n",
       "         3.00818967e+02, 6.01092896e+00],\n",
       "        [9.83788707e+02, 9.83788707e+02, 1.20000000e+01, 5.13417834e+03,\n",
       "         2.96621928e+02, 6.01092896e+00],\n",
       "        [1.00582878e+03, 1.00582878e+03, 5.42000000e+02, 2.50176524e+02,\n",
       "         2.82603715e+02, 2.00364299e+00],\n",
       "        [9.79781421e+02, 9.79781421e+02, 6.74000000e+02, 2.87255452e+02,\n",
       "         2.43864540e+02, 2.00364299e+00],\n",
       "        [9.93806922e+02, 9.93806922e+02, 4.60000000e+02, 6.67774598e+03,\n",
       "         2.84184610e+02, 6.01092896e+00],\n",
       "        [1.01785064e+03, 1.01785064e+03, 1.20000000e+01, 7.98466112e+03,\n",
       "         3.11801073e+02, 6.01092896e+00],\n",
       "        [1.00582878e+03, 1.00582878e+03, 1.20000000e+01, 4.38880058e+03,\n",
       "         3.18085114e+02, 6.01092896e+00],\n",
       "        [9.59744991e+02, 9.59744991e+02, 1.00000000e+01, 2.26671650e+04,\n",
       "         2.93877636e+02, 2.00364299e+00]]),\n",
       " array([33,  4, 33, 10, 40, 18, 24,  5, 26, 22, 32, 28]))"
      ]
     },
     "execution_count": 75,
     "metadata": {},
     "output_type": "execute_result"
    }
   ],
   "source": [
    "X_test, y_test"
   ]
  },
  {
   "cell_type": "code",
   "execution_count": 124,
   "metadata": {},
   "outputs": [],
   "source": [
    "# logistic regression\n",
    "from sklearn.linear_model import LogisticRegression\n",
    "from sklearn.model_selection import train_test_split\n",
    "clf = LogisticRegression(max_iter =20000,random_state=10)"
   ]
  },
  {
   "cell_type": "code",
   "execution_count": 125,
   "metadata": {},
   "outputs": [
    {
     "name": "stderr",
     "output_type": "stream",
     "text": [
      "/home/tasbolat/tas_python_env/lib/python3.8/site-packages/sklearn/linear_model/_logistic.py:938: ConvergenceWarning: lbfgs failed to converge (status=1):\n",
      "STOP: TOTAL NO. of f AND g EVALUATIONS EXCEEDS LIMIT.\n",
      "\n",
      "Increase the number of iterations (max_iter) or scale the data as shown in:\n",
      "    https://scikit-learn.org/stable/modules/preprocessing.html\n",
      "Please also refer to the documentation for alternative solver options:\n",
      "    https://scikit-learn.org/stable/modules/linear_model.html#logistic-regression\n",
      "  n_iter_i = _check_optimize_result(\n"
     ]
    },
    {
     "data": {
      "text/plain": [
       "LogisticRegression(C=1.0, class_weight=None, dual=False, fit_intercept=True,\n",
       "                   intercept_scaling=1, l1_ratio=None, max_iter=20000,\n",
       "                   multi_class='auto', n_jobs=None, penalty='l2',\n",
       "                   random_state=10, solver='lbfgs', tol=0.0001, verbose=0,\n",
       "                   warm_start=False)"
      ]
     },
     "execution_count": 125,
     "metadata": {},
     "output_type": "execute_result"
    }
   ],
   "source": [
    "clf.fit(X_train, y_train)"
   ]
  },
  {
   "cell_type": "code",
   "execution_count": 126,
   "metadata": {},
   "outputs": [],
   "source": [
    "y_pred = clf.predict(X_test)"
   ]
  },
  {
   "cell_type": "code",
   "execution_count": 127,
   "metadata": {},
   "outputs": [
    {
     "data": {
      "text/plain": [
       "148.5"
      ]
     },
     "execution_count": 127,
     "metadata": {},
     "output_type": "execute_result"
    }
   ],
   "source": [
    "from sklearn.metrics import mean_squared_error\n",
    "mean_squared_error(y_test, y_pred)"
   ]
  },
  {
   "cell_type": "code",
   "execution_count": 128,
   "metadata": {},
   "outputs": [
    {
     "data": {
      "image/png": "[encoded data removed]",
      "text/plain": [
       "<Figure size 432x288 with 1 Axes>"
      ]
     },
     "metadata": {
      "needs_background": "light"
     },
     "output_type": "display_data"
    }
   ],
   "source": [
    "plt.plot(y_test, 'rx', label='True')\n",
    "plt.plot(y_pred, 'bx', label='Predicted')\n",
    "plt.legend()\n",
    "plt.show()"
   ]
  },
  {
   "cell_type": "code",
   "execution_count": 129,
   "metadata": {},
   "outputs": [
    {
     "data": {
      "text/plain": [
       "LinearRegression(copy_X=True, fit_intercept=True, n_jobs=None, normalize=False)"
      ]
     },
     "execution_count": 129,
     "metadata": {},
     "output_type": "execute_result"
    }
   ],
   "source": [
    "# logistic regression\n",
    "from sklearn.linear_model import LinearRegression\n",
    "clf = LinearRegression()\n",
    "clf.fit(X_train, y_train)"
   ]
  },
  {
   "cell_type": "code",
   "execution_count": 130,
   "metadata": {},
   "outputs": [
    {
     "data": {
      "text/plain": [
       "55.23802683679946"
      ]
     },
     "execution_count": 130,
     "metadata": {},
     "output_type": "execute_result"
    }
   ],
   "source": [
    "y_pred = clf.predict(X_test)\n",
    "mean_squared_error(y_test, y_pred)"
   ]
  },
  {
   "cell_type": "code",
   "execution_count": 131,
   "metadata": {},
   "outputs": [
    {
     "data": {
      "image/png": "[encoded data removed]",
      "text/plain": [
       "<Figure size 432x288 with 1 Axes>"
      ]
     },
     "metadata": {
      "needs_background": "light"
     },
     "output_type": "display_data"
    }
   ],
   "source": [
    "plt.plot(y_test, 'rx', label='True')\n",
    "plt.plot(y_pred, 'bx', label='Predicted')\n",
    "plt.legend()\n",
    "plt.show()"
   ]
  },
  {
   "cell_type": "code",
   "execution_count": null,
   "metadata": {},
   "outputs": [],
   "source": []
  }
 ],
 "metadata": {
  "kernelspec": {
   "display_name": "Python 3",
   "language": "python",
   "name": "python3"
  },
  "language_info": {
   "codemirror_mode": {
    "name": "ipython",
    "version": 3
   },
   "file_extension": ".py",
   "mimetype": "text/x-python",
   "name": "python",
   "nbconvert_exporter": "python",
   "pygments_lexer": "ipython3",
   "version": "3.8.5"
  }
 },
 "nbformat": 4,
 "nbformat_minor": 4
}
